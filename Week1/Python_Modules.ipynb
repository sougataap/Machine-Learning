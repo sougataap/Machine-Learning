{
 "cells": [
  {
   "cell_type": "markdown",
   "metadata": {
    "id": "nKMH5Y1T06vH"
   },
   "source": [
    "# Numpy Implementation"
   ]
  },
  {
   "cell_type": "code",
   "execution_count": 7,
   "metadata": {
    "colab": {
     "base_uri": "https://localhost:8080/"
    },
    "id": "MM8X0T-p06HB",
    "outputId": "fd31b01a-630f-4c3c-cbcc-498dba88d5f6"
   },
   "outputs": [
    {
     "name": "stdout",
     "output_type": "stream",
     "text": [
      "Passed\n"
     ]
    }
   ],
   "source": [
    "import numpy as np\n",
    "# Create a 2D Numpy array of size 1x3 with elements of your choice\n",
    "arr1=np.array([[1, 2, 3]])\n",
    "\n",
    "# Create a Numpy array of length 50 with zeroes as its elements\n",
    "arr2=np.zeros(50)\n",
    "\n",
    "#Create a Numpy array of length 3x2 with elements of your choice\n",
    "arr3=np.array([[4, 5], [6, 7], [8, 9]])\n",
    "\n",
    "#Multiply arr1 and arr3 using Numpy functions\n",
    "arr4=np.dot(arr1, arr3)\n",
    "\n",
    "#Change 5th element of arr2 to a different number\n",
    "arr2[4] = 10\n",
    "\n",
    "if np.shape(arr4)==(1,2) and arr2[4]!=0:\n",
    "  print(\"Passed\")\n",
    "else:\n",
    "  print(\"Fail\")"
   ]
  },
  {
   "cell_type": "code",
   "execution_count": 8,
   "metadata": {
    "colab": {
     "base_uri": "https://localhost:8080/"
    },
    "id": "KNTXZFd13rgE",
    "outputId": "72c04aca-175c-4aa7-daa4-8c08c27709d4"
   },
   "outputs": [
    {
     "name": "stdout",
     "output_type": "stream",
     "text": [
      "The dot product of I and 9I+1 is:\n",
      "[[10.  1.  1.]\n",
      " [ 1. 10.  1.]\n",
      " [ 1.  1. 10.]]\n"
     ]
    }
   ],
   "source": [
    "import numpy as np\n",
    "\n",
    "#Task: Perform the dot product of I and 9I+1 using numpy, here I is referred to as an 3x3 Identity matrix.\n",
    "# Create a 3x3 Identity matrix\n",
    "I = np.eye(3)\n",
    "\n",
    "# Create the matrix 9I + 1\n",
    "matrix_9I_plus_1 = 9 * I + 1\n",
    "\n",
    "# Perform the dot product of I and 9I + 1\n",
    "result = np.dot(I, matrix_9I_plus_1)\n",
    "\n",
    "print(\"The dot product of I and 9I+1 is:\")\n",
    "print(result)\n"
   ]
  },
  {
   "cell_type": "markdown",
   "metadata": {
    "id": "rRrOxN-6FXAb"
   },
   "source": [
    "# Pandas Implementation"
   ]
  },
  {
   "cell_type": "code",
   "execution_count": 9,
   "metadata": {
    "colab": {
     "base_uri": "https://localhost:8080/"
    },
    "id": "EaoIVtKIFenB",
    "outputId": "c6002fad-7c29-46df-fcde-57dd762e1756"
   },
   "outputs": [
    {
     "name": "stdout",
     "output_type": "stream",
     "text": [
      "     Name  Age       City\n",
      "0  Ramesh   25  Bangalore\n",
      "1  Mahesh   30     Mumbai\n",
      "0    25\n",
      "1    30\n",
      "2    35\n",
      "Name: Age, dtype: int64\n",
      "     Name  Age    City\n",
      "1  Mahesh   30  Mumbai\n",
      "2  Suresh   35   Delhi\n",
      "     Name  Age       City Country\n",
      "0  Ramesh   25  Bangalore   India\n",
      "1  Mahesh   30     Mumbai   India\n",
      "2  Suresh   35      Delhi   India\n",
      "     Name   Age       City\n",
      "0  Ramesh  25.0  Bangalore\n",
      "1  Mahesh  30.0     Mumbai\n",
      "2  Suresh  35.0      Delhi\n"
     ]
    }
   ],
   "source": [
    "import pandas as pd\n",
    "\n",
    "## Create a DataFrame from a dictionary\n",
    "data = {\n",
    "    'Name': ['Ramesh', 'Mahesh', 'Suresh'],\n",
    "    'Age': [25, 30, 35],\n",
    "    'City': ['Bangalore', 'Mumbai', 'Delhi']\n",
    "}\n",
    "#Your code here\n",
    "df = pd.DataFrame(data)\n",
    "\n",
    "#Display the first 2 rows of the data frame\n",
    "print(df.head(2))\n",
    "\n",
    "#Print the age column\n",
    "print(df['Age'])\n",
    "\n",
    "#Filter rows where age is greater than 26\n",
    "filtered_df = df[df['Age'] > 26]\n",
    "print(filtered_df)\n",
    "\n",
    "#Add a new column 'Country' with the value 'India' for all rows\n",
    "df['Country'] = 'India'\n",
    "print(df)\n",
    "\n",
    "data1 = {\n",
    "    'Name': ['Ramesh', 'Mahesh', 'Suresh'],\n",
    "    'Age': [25, None, 35],\n",
    "    'City': ['Bangalore', 'Mumbai', 'Delhi']\n",
    "}\n",
    "\n",
    "df2= pd.DataFrame(data1)\n",
    "\n",
    "# Fill missing values in the 'Age' column with the mean age\n",
    "mean_age = df2['Age'].mean()\n",
    "df2['Age'].fillna(mean_age, inplace=True)\n",
    "print(df2)"
   ]
  },
  {
   "cell_type": "markdown",
   "metadata": {
    "id": "uay3H4C8cboE"
   },
   "source": [
    "# Matplotlib Implementation"
   ]
  },
  {
   "cell_type": "code",
   "execution_count": 10,
   "metadata": {
    "colab": {
     "base_uri": "https://localhost:8080/",
     "height": 472
    },
    "id": "i4lccqVxcgE_",
    "outputId": "ee6fc1c7-c307-4a5a-c11a-4fa4d94eec23"
   },
   "outputs": [
    {
     "data": {
      "image/png": "[encoded data removed]",
      "text/plain": [
       "<Figure size 640x480 with 1 Axes>"
      ]
     },
     "metadata": {},
     "output_type": "display_data"
    }
   ],
   "source": [
    "import matplotlib.pyplot as plt\n",
    "import numpy as np\n",
    "\n",
    "\n",
    "\n",
    "xpoints=np.array([1,2,3,4])\n",
    "ypoints=np.array([2,4,6,8])\n",
    "\n",
    "#Plot these points without drawing a line\n",
    "plt.plot(xpoints, ypoints, 'o')\n",
    "\n",
    "#Plotting with marker: Plot these points with a marker(Star marker)\n",
    "plt.plot(xpoints, ypoints, marker='*', linestyle='None')\n",
    "\n",
    "#Using fmt format, add circular marker,red color and Dashed line\n",
    "plt.plot(xpoints, ypoints, 'ro--')\n",
    "\n",
    "#Add xlabel,ylabel and title for the plot.\n",
    "plt.xlabel('X-axis')\n",
    "plt.ylabel('Y-axis')\n",
    "plt.title('Plotting Points')\n",
    "\n",
    "#Create a scatter plot for xpoints and ypoints\n",
    "plt.scatter(xpoints, ypoints)\n",
    "\n",
    "#Set color to the scatter plot. Blue,Green,Red and yellow color for each point respectively\n",
    "colors = ['blue', 'green', 'red', 'yellow']\n",
    "for i in range(len(xpoints)):\n",
    "    plt.scatter(xpoints[i], ypoints[i], color=colors[i])\n",
    "\n",
    "# Show the plot\n",
    "plt.show()"
   ]
  },
  {
   "cell_type": "markdown",
   "metadata": {
    "id": "pfe2Fv2tgKq5"
   },
   "source": [
    "# Miscellaneous Modules Implementation"
   ]
  },
  {
   "cell_type": "code",
   "execution_count": 11,
   "metadata": {
    "colab": {
     "base_uri": "https://localhost:8080/"
    },
    "id": "a_bTz2PlgRah",
    "outputId": "30ffca55-9fb1-4aab-ffb7-91f6cd5a2a97"
   },
   "outputs": [
    {
     "name": "stdout",
     "output_type": "stream",
     "text": [
      "Random numbers picked: [31 25 81  1]\n",
      "Sum of random numbers: 138\n"
     ]
    }
   ],
   "source": [
    "import random\n",
    "import numpy as np\n",
    "\n",
    "#Set the seed of random to 20\n",
    "random.seed(20)\n",
    "\n",
    "arr1=np.array([1,24,31,45,73,81,94,25])\n",
    "\n",
    "#Using the random module pick 4 different random numbers from arr1 and return their sum.\n",
    "random_indices = random.sample(range(len(arr1)), 4)\n",
    "random_numbers = arr1[random_indices]\n",
    "sum_of_random_numbers = np.sum(random_numbers)\n",
    "\n",
    "print(f\"Random numbers picked: {random_numbers}\")\n",
    "print(f\"Sum of random numbers: {sum_of_random_numbers}\")"
   ]
  }
 ],
 "metadata": {
  "colab": {
   "provenance": []
  },
  "kernelspec": {
   "display_name": "Python 3 (ipykernel)",
   "language": "python",
   "name": "python3"
  },
  "language_info": {
   "codemirror_mode": {
    "name": "ipython",
    "version": 3
   },
   "file_extension": ".py",
   "mimetype": "text/x-python",
   "name": "python",
   "nbconvert_exporter": "python",
   "pygments_lexer": "ipython3",
   "version": "3.11.5"
  }
 },
 "nbformat": 4,
 "nbformat_minor": 1
}
