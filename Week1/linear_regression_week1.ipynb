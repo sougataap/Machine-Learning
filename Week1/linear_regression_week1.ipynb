{
 "cells": [
  {
   "cell_type": "code",
   "execution_count": 25,
   "metadata": {
    "id": "-zTLHrFCT6KY"
   },
   "outputs": [],
   "source": [
    "import numpy as np\n",
    "import pandas as pd\n",
    "import matplotlib.pyplot as plt\n",
    "from sklearn.preprocessing import LabelEncoder\n",
    "\n",
    "# Aim is to predict the marks of students of the test data"
   ]
  },
  {
   "cell_type": "code",
   "execution_count": 26,
   "metadata": {
    "id": "p0KHq8ZgTpU4"
   },
   "outputs": [],
   "source": [
    "# Use the file namd 'training data' to train the model\n",
    "\n",
    "data = pd.read_excel('Training data.xlsx')\n",
    "x_train = np.array(data.iloc[:,0:8])\n",
    "y_train = np.array(data.iloc[:,8]).reshape(-1,1)\n",
    "\n",
    "# Try plotting y_train with different features\n",
    "# To get an idea whether to add some features or not\n",
    "# Add some features if required in x_train\n",
    "\n",
    "# Also do label encoding for features not represented in numbers\n",
    "# refer the link if not know : https://youtu.be/589nCGeWG1w?si=t2Wa7LgbUOO4RooM\n",
    "\n",
    "def feature_changing(x_train):\n",
    "  # ---------\n",
    "    # Your code here\n",
    "  # ---------\n",
    "    le = LabelEncoder()\n",
    "    for i in range(x_train.shape[1]):\n",
    "        if isinstance(x_train[0, i], str):\n",
    "            x_train[:, i] = le.fit_transform(x_train[:, i])\n",
    "    return x_train\n",
    "\n",
    "x_train = feature_changing(x_train)"
   ]
  },
  {
   "cell_type": "code",
   "execution_count": 27,
   "metadata": {
    "id": "tYshvtYlVour"
   },
   "outputs": [],
   "source": [
    "def z_score(x_train):\n",
    "\n",
    "  # ---------\n",
    "    # write the code for feature scaling here\n",
    "    # Your code here\n",
    "  # ---------\n",
    "    x_mean = np.mean(x_train, axis=0)\n",
    "    x_std = np.std(x_train, axis=0)\n",
    "    x_train = (x_train - x_mean) / x_std\n",
    "\n",
    "    return x_train,x_std,x_mean"
   ]
  },
  {
   "cell_type": "code",
   "execution_count": 28,
   "metadata": {
    "id": "O5dOwbNbWJWa"
   },
   "outputs": [],
   "source": [
    "def cost(x_train,y_train,w,b):\n",
    "\n",
    "  # ---------\n",
    "    # Your code here\n",
    "    # Use mean square error as cost function\n",
    "    # return cost\n",
    "  # ---------\n",
    "    m = len(y_train)\n",
    "    predictions = np.dot(x_train, w) + b\n",
    "    loss = (1/(2*m)) * np.sum((predictions - y_train) ** 2)\n",
    "\n",
    "    return loss"
   ]
  },
  {
   "cell_type": "code",
   "execution_count": 29,
   "metadata": {
    "id": "hW8p2cTNU74W"
   },
   "outputs": [],
   "source": [
    "def gradient_descent(x_train,y_train,w,b,learning_rate=0.01):\n",
    "\n",
    "  # ---------\n",
    "    # Your code here\n",
    "    # Choose learning rate yourself\n",
    "  # ---------\n",
    "    m = len(y_train)\n",
    "    predictions = np.dot(x_train, w) + b\n",
    "    error = predictions - y_train\n",
    "    w_grad = (1/m) * np.dot(x_train.T, error)\n",
    "    b_grad = (1/m) * np.sum(error)\n",
    "    w -= learning_rate * w_grad\n",
    "    b -= learning_rate * b_grad\n",
    "\n",
    "    return w,b"
   ]
  },
  {
   "cell_type": "code",
   "execution_count": 30,
   "metadata": {
    "id": "Kl-fioJ5WkYn"
   },
   "outputs": [
    {
     "name": "stdout",
     "output_type": "stream",
     "text": [
      "Congratulations, your accuracy is 100.0%\n"
     ]
    }
   ],
   "source": [
    "x_train = x_train.astype(np.float64)\n",
    "x_train,x_std,x_mean = z_score(x_train)\n",
    "\n",
    "np.random.seed(2147483647)\n",
    "w = np.random.randn(x_train.shape[1],1)\n",
    "b = np.random.randn(1)\n",
    "\n",
    "old_cost = 0\n",
    "\n",
    "while abs(old_cost - cost(x_train,y_train,w,b))>0.00001:\n",
    "  old_cost = cost(x_train,y_train,w,b)\n",
    "  w,b = gradient_descent(x_train,y_train,w,b)\n",
    "\n",
    "x_predict = pd.read_excel('Test data.xlsx').iloc[:,:8].to_numpy()\n",
    "x_predict = feature_changing(x_predict)\n",
    "x_predict = (x_predict - x_mean)/x_std\n",
    "ans = pd.read_excel('Test data.xlsx').iloc[:,8].to_numpy()\n",
    "\n",
    "y_predict = np.dot(x_predict,w) + b\n",
    "\n",
    "accuracy = 0\n",
    "for dim in range(len(ans)):\n",
    "    if abs(y_predict[dim]-ans[dim])<0.5: # do not change the tolerance as you'll be checked on +- 0.5 error only\n",
    "        accuracy += 1\n",
    "accuracy = round(accuracy*100/200.0,2)\n",
    "ok = 'Congratulations' if accuracy>95 else 'Optimization required'\n",
    "print(f\"{ok}, your accuracy is {accuracy}%\")"
   ]
  },
  {
   "cell_type": "code",
   "execution_count": 24,
   "metadata": {},
   "outputs": [
    {
     "name": "stdout",
     "output_type": "stream",
     "text": [
      "Congratulations, your accuracy is 100.0%\n"
     ]
    }
   ],
   "source": [
    "import numpy as np\n",
    "import pandas as pd\n",
    "import matplotlib.pyplot as plt\n",
    "from sklearn.preprocessing import LabelEncoder\n",
    "\n",
    "# Aim is to predict the marks of students of the test data\n",
    "# Use the file named 'Training data' to train the model\n",
    "\n",
    "data = pd.read_excel('Training data.xlsx')\n",
    "x_train = np.array(data.iloc[:, 0:8])\n",
    "y_train = np.array(data.iloc[:, 8]).reshape(-1, 1)\n",
    "\n",
    "# Encode categorical features\n",
    "def encode_categorical_features(x_train):\n",
    "    le = LabelEncoder()\n",
    "    for i in range(x_train.shape[1]):\n",
    "        if isinstance(x_train[0, i], str):\n",
    "            x_train[:, i] = le.fit_transform(x_train[:, i])\n",
    "    return x_train\n",
    "\n",
    "x_train = encode_categorical_features(x_train)\n",
    "\n",
    "# Try plotting y_train with different features\n",
    "# To get an idea whether to add some features or not\n",
    "# Add some features if required in x_train\n",
    "\n",
    "# Also do label encoding for features not represented in numbers\n",
    "# refer the link if not know : https://youtu.be/589nCGeWG1w?si=t2Wa7LgbUOO4RooM\n",
    "\n",
    "def feature_changing(x_train):\n",
    "    # Placeholder for feature engineering\n",
    "    # For now, just returning x_train without any changes\n",
    "    # You can add more features or modify existing ones here\n",
    "    return x_train\n",
    "\n",
    "x_train = feature_changing(x_train)\n",
    "\n",
    "def z_score(x_train):\n",
    "    x_mean = np.mean(x_train, axis=0)\n",
    "    x_std = np.std(x_train, axis=0)\n",
    "    x_train = (x_train - x_mean) / x_std\n",
    "    return x_train, x_std, x_mean\n",
    "\n",
    "def cost(x_train, y_train, w, b):\n",
    "    m = len(y_train)\n",
    "    predictions = np.dot(x_train, w) + b\n",
    "    loss = (1/(2*m)) * np.sum((predictions - y_train) ** 2)\n",
    "    return loss\n",
    "\n",
    "def gradient_descent(x_train, y_train, w, b, learning_rate=0.01):\n",
    "    m = len(y_train)\n",
    "    predictions = np.dot(x_train, w) + b\n",
    "    error = predictions - y_train\n",
    "    w_grad = (1/m) * np.dot(x_train.T, error)\n",
    "    b_grad = (1/m) * np.sum(error)\n",
    "    w -= learning_rate * w_grad\n",
    "    b -= learning_rate * b_grad\n",
    "    return w, b\n",
    "\n",
    "x_train = x_train.astype(np.float64)\n",
    "x_train, x_std, x_mean = z_score(x_train)\n",
    "\n",
    "np.random.seed(2147483647)\n",
    "w = np.random.randn(x_train.shape[1], 1)\n",
    "b = np.random.randn(1)\n",
    "\n",
    "old_cost = 0\n",
    "tolerance = 0.00001\n",
    "\n",
    "while abs(old_cost - cost(x_train, y_train, w, b)) > tolerance:\n",
    "    old_cost = cost(x_train, y_train, w, b)\n",
    "    w, b = gradient_descent(x_train, y_train, w, b)\n",
    "\n",
    "x_predict = pd.read_excel('Test data.xlsx').iloc[:, :8].to_numpy()\n",
    "x_predict = encode_categorical_features(x_predict)\n",
    "x_predict = feature_changing(x_predict)\n",
    "x_predict = (x_predict - x_mean) / x_std\n",
    "ans = pd.read_excel('Test data.xlsx').iloc[:, 8].to_numpy()\n",
    "\n",
    "y_predict = np.dot(x_predict, w) + b\n",
    "\n",
    "accuracy = 0\n",
    "for dim in range(len(ans)):\n",
    "    if abs(y_predict[dim] - ans[dim]) < 0.5: # do not change the tolerance as you'll be checked on +- 0.5 error only\n",
    "        accuracy += 1\n",
    "accuracy = round(accuracy * 100 / 200.0, 2)\n",
    "ok = 'Congratulations' if accuracy > 95 else 'Optimization required'\n",
    "print(f\"{ok}, your accuracy is {accuracy}%\")\n"
   ]
  }
 ],
 "metadata": {
  "colab": {
   "provenance": []
  },
  "kernelspec": {
   "display_name": "Python 3 (ipykernel)",
   "language": "python",
   "name": "python3"
  },
  "language_info": {
   "codemirror_mode": {
    "name": "ipython",
    "version": 3
   },
   "file_extension": ".py",
   "mimetype": "text/x-python",
   "name": "python",
   "nbconvert_exporter": "python",
   "pygments_lexer": "ipython3",
   "version": "3.11.5"
  }
 },
 "nbformat": 4,
 "nbformat_minor": 1
}
