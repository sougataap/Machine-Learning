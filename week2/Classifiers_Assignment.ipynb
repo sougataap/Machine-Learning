{
 "cells": [
  {
   "cell_type": "markdown",
   "id": "3178deb3",
   "metadata": {},
   "source": [
    "## Dataset Loading and Pre-Processing"
   ]
  },
  {
   "cell_type": "code",
   "execution_count": 16,
   "id": "9caccc16",
   "metadata": {},
   "outputs": [
    {
     "name": "stdout",
     "output_type": "stream",
     "text": [
      "<class 'pandas.core.frame.DataFrame'>\n",
      "RangeIndex: 13200 entries, 0 to 13199\n",
      "Data columns (total 11 columns):\n",
      " #   Column                Non-Null Count  Dtype  \n",
      "---  ------                --------------  -----  \n",
      " 0   Temperature           13200 non-null  float64\n",
      " 1   Humidity              13200 non-null  int64  \n",
      " 2   Wind Speed            13200 non-null  float64\n",
      " 3   Precipitation (%)     13200 non-null  float64\n",
      " 4   Cloud Cover           13200 non-null  object \n",
      " 5   Atmospheric Pressure  13200 non-null  float64\n",
      " 6   UV Index              13200 non-null  int64  \n",
      " 7   Season                13200 non-null  object \n",
      " 8   Visibility (km)       13200 non-null  float64\n",
      " 9   Location              13200 non-null  object \n",
      " 10  Weather Type          13200 non-null  object \n",
      "dtypes: float64(5), int64(2), object(4)\n",
      "memory usage: 1.1+ MB\n"
     ]
    }
   ],
   "source": [
    "import pandas as pd\n",
    "data = pd.read_csv(\"/Users/sougataa/Documents/Learners_space/Machine_learning/week2/weather_classification_data.csv\")\n",
    "data.info()"
   ]
  },
  {
   "cell_type": "markdown",
   "id": "3c455063",
   "metadata": {},
   "source": [
    "## Data Shuffling"
   ]
  },
  {
   "cell_type": "code",
   "execution_count": 17,
   "id": "7616e7c9",
   "metadata": {},
   "outputs": [
    {
     "data": {
      "text/html": [
       "<div>\n",
       "<style scoped>\n",
       "    .dataframe tbody tr th:only-of-type {\n",
       "        vertical-align: middle;\n",
       "    }\n",
       "\n",
       "    .dataframe tbody tr th {\n",
       "        vertical-align: top;\n",
       "    }\n",
       "\n",
       "    .dataframe thead th {\n",
       "        text-align: right;\n",
       "    }\n",
       "</style>\n",
       "<table border=\"1\" class=\"dataframe\">\n",
       "  <thead>\n",
       "    <tr style=\"text-align: right;\">\n",
       "      <th></th>\n",
       "      <th>Temperature</th>\n",
       "      <th>Humidity</th>\n",
       "      <th>Wind Speed</th>\n",
       "      <th>Precipitation (%)</th>\n",
       "      <th>Cloud Cover</th>\n",
       "      <th>Atmospheric Pressure</th>\n",
       "      <th>UV Index</th>\n",
       "      <th>Season</th>\n",
       "      <th>Visibility (km)</th>\n",
       "      <th>Location</th>\n",
       "      <th>Weather Type</th>\n",
       "    </tr>\n",
       "  </thead>\n",
       "  <tbody>\n",
       "    <tr>\n",
       "      <th>1109</th>\n",
       "      <td>41.0</td>\n",
       "      <td>53</td>\n",
       "      <td>3.5</td>\n",
       "      <td>15.0</td>\n",
       "      <td>clear</td>\n",
       "      <td>1027.23</td>\n",
       "      <td>6</td>\n",
       "      <td>Winter</td>\n",
       "      <td>9.5</td>\n",
       "      <td>coastal</td>\n",
       "      <td>Sunny</td>\n",
       "    </tr>\n",
       "    <tr>\n",
       "      <th>7697</th>\n",
       "      <td>35.0</td>\n",
       "      <td>27</td>\n",
       "      <td>8.0</td>\n",
       "      <td>11.0</td>\n",
       "      <td>clear</td>\n",
       "      <td>1010.02</td>\n",
       "      <td>11</td>\n",
       "      <td>Spring</td>\n",
       "      <td>8.0</td>\n",
       "      <td>inland</td>\n",
       "      <td>Sunny</td>\n",
       "    </tr>\n",
       "    <tr>\n",
       "      <th>4554</th>\n",
       "      <td>31.0</td>\n",
       "      <td>55</td>\n",
       "      <td>14.0</td>\n",
       "      <td>40.0</td>\n",
       "      <td>partly cloudy</td>\n",
       "      <td>1009.30</td>\n",
       "      <td>4</td>\n",
       "      <td>Summer</td>\n",
       "      <td>6.5</td>\n",
       "      <td>inland</td>\n",
       "      <td>Cloudy</td>\n",
       "    </tr>\n",
       "    <tr>\n",
       "      <th>1672</th>\n",
       "      <td>19.0</td>\n",
       "      <td>74</td>\n",
       "      <td>7.5</td>\n",
       "      <td>92.0</td>\n",
       "      <td>overcast</td>\n",
       "      <td>993.95</td>\n",
       "      <td>0</td>\n",
       "      <td>Spring</td>\n",
       "      <td>2.0</td>\n",
       "      <td>mountain</td>\n",
       "      <td>Rainy</td>\n",
       "    </tr>\n",
       "    <tr>\n",
       "      <th>1706</th>\n",
       "      <td>34.0</td>\n",
       "      <td>57</td>\n",
       "      <td>6.0</td>\n",
       "      <td>39.0</td>\n",
       "      <td>overcast</td>\n",
       "      <td>1007.32</td>\n",
       "      <td>3</td>\n",
       "      <td>Spring</td>\n",
       "      <td>6.5</td>\n",
       "      <td>coastal</td>\n",
       "      <td>Cloudy</td>\n",
       "    </tr>\n",
       "  </tbody>\n",
       "</table>\n",
       "</div>"
      ],
      "text/plain": [
       "      Temperature  Humidity  Wind Speed  Precipitation (%)    Cloud Cover  \\\n",
       "1109         41.0        53         3.5               15.0          clear   \n",
       "7697         35.0        27         8.0               11.0          clear   \n",
       "4554         31.0        55        14.0               40.0  partly cloudy   \n",
       "1672         19.0        74         7.5               92.0       overcast   \n",
       "1706         34.0        57         6.0               39.0       overcast   \n",
       "\n",
       "      Atmospheric Pressure  UV Index  Season  Visibility (km)  Location  \\\n",
       "1109               1027.23         6  Winter              9.5   coastal   \n",
       "7697               1010.02        11  Spring              8.0    inland   \n",
       "4554               1009.30         4  Summer              6.5    inland   \n",
       "1672                993.95         0  Spring              2.0  mountain   \n",
       "1706               1007.32         3  Spring              6.5   coastal   \n",
       "\n",
       "     Weather Type  \n",
       "1109        Sunny  \n",
       "7697        Sunny  \n",
       "4554       Cloudy  \n",
       "1672        Rainy  \n",
       "1706       Cloudy  "
      ]
     },
     "execution_count": 17,
     "metadata": {},
     "output_type": "execute_result"
    }
   ],
   "source": [
    "from sklearn.utils import shuffle\n",
    "data = shuffle(data)\n",
    "data.head()"
   ]
  },
  {
   "cell_type": "markdown",
   "id": "03df7467",
   "metadata": {},
   "source": [
    "## Scaling and Labeling"
   ]
  },
  {
   "cell_type": "code",
   "execution_count": 18,
   "id": "35930210",
   "metadata": {},
   "outputs": [
    {
     "name": "stdout",
     "output_type": "stream",
     "text": [
      "Object Columns: ['Cloud Cover', 'Season', 'Location', 'Weather Type']\n",
      "Non Object Columns: ['Temperature', 'Humidity', 'Wind Speed', 'Precipitation (%)', 'Atmospheric Pressure', 'UV Index', 'Visibility (km)']\n"
     ]
    }
   ],
   "source": [
    "# START CODE HERE\n",
    "object_columns = ['Cloud Cover', 'Season', 'Location', 'Weather Type']\n",
    "non_object_columns = ['Temperature', 'Humidity', 'Wind Speed', 'Precipitation (%)', 'Atmospheric Pressure', 'UV Index', 'Visibility (km)']\n",
    "# END CODE HERE\n",
    "print(f\"Object Columns: {object_columns}\\nNon Object Columns: {non_object_columns}\")"
   ]
  },
  {
   "cell_type": "markdown",
   "id": "675f80d9",
   "metadata": {},
   "source": [
    "#### TEST"
   ]
  },
  {
   "cell_type": "code",
   "execution_count": 19,
   "id": "fe3d96f0",
   "metadata": {},
   "outputs": [
    {
     "name": "stdout",
     "output_type": "stream",
     "text": [
      "\u001b[32mTest Passed\u001b[0m\n"
     ]
    }
   ],
   "source": [
    "# DON'T EDIT THIS CELL\n",
    "if (object_columns == ['Cloud Cover', 'Season', 'Location', 'Weather Type'] and non_object_columns == ['Temperature', 'Humidity', 'Wind Speed', 'Precipitation (%)', 'Atmospheric Pressure', 'UV Index', 'Visibility (km)']):\n",
    "  print(f\"\\033[32mTest Passed\\033[0m\")\n",
    "else:\n",
    "  print(f\"\\033[31mTest Failed\\033[0m\")"
   ]
  },
  {
   "cell_type": "markdown",
   "id": "dbf8ff78",
   "metadata": {},
   "source": [
    "#### CODE"
   ]
  },
  {
   "cell_type": "code",
   "execution_count": 20,
   "id": "c1fc780f",
   "metadata": {},
   "outputs": [],
   "source": [
    "from sklearn.preprocessing import OrdinalEncoder, StandardScaler\n",
    "from sklearn.compose import ColumnTransformer\n",
    "\n",
    "# START CODE HERE\n",
    "\n",
    "column_transformer = ColumnTransformer(\n",
    "    transformers=[\n",
    "        ('cat', OrdinalEncoder(), object_columns),\n",
    "        ('num', StandardScaler(), non_object_columns)\n",
    "    ]\n",
    ")\n",
    "\n",
    "# Fit and transform the data\n",
    "data_scaled_labeled = column_transformer.fit_transform(data)\n",
    "# END CODE HERE\n",
    "\n",
    "all_columns = object_columns + non_object_columns\n",
    "\n",
    "# Create the new DataFrame\n",
    "data_scaled_labeled = pd.DataFrame(data_scaled_labeled, columns=all_columns)"
   ]
  },
  {
   "cell_type": "markdown",
   "id": "57ee5e6c",
   "metadata": {},
   "source": [
    "#### TEST"
   ]
  },
  {
   "cell_type": "code",
   "execution_count": 21,
   "id": "66d12b5e",
   "metadata": {},
   "outputs": [
    {
     "name": "stdout",
     "output_type": "stream",
     "text": [
      "\u001b[32mTest Passed\u001b[0m\n"
     ]
    }
   ],
   "source": [
    "# DON'T EDIT THIS CELL\n",
    "\n",
    "data_scaled_labeled_check = pd.read_csv(\"/Users/sougataa/Documents/Learners_space/Machine_learning/week2/data_scaled_labeled_check.csv\")\n",
    "import numpy as np\n",
    "data_scaled_labeled_values = np.sort(data_scaled_labeled.values,axis=0)\n",
    "data_scaled_labeled_check_values = np.sort(data_scaled_labeled_check.values,axis=0)\n",
    "if np.allclose(data_scaled_labeled_values, data_scaled_labeled_check_values, equal_nan=True):\n",
    "  print(f\"\\033[32mTest Passed\\033[0m\")\n",
    "else:\n",
    "  print(f\"\\033[31mTest Failed\\033[0m\")"
   ]
  },
  {
   "cell_type": "markdown",
   "id": "56924307",
   "metadata": {},
   "source": [
    "## Data Splitting"
   ]
  },
  {
   "cell_type": "code",
   "execution_count": 22,
   "id": "622ff89f",
   "metadata": {},
   "outputs": [],
   "source": [
    "X = data_scaled_labeled.drop('Weather Type', axis=1)\n",
    "y = data_scaled_labeled['Weather Type']\n",
    "\n",
    "from sklearn.model_selection import train_test_split\n",
    "\n",
    "X_train, X_test, y_train, y_test = train_test_split(X, y, train_size=0.9, random_state=10)"
   ]
  },
  {
   "cell_type": "markdown",
   "id": "c37cfea0",
   "metadata": {},
   "source": [
    "#### TEST"
   ]
  },
  {
   "cell_type": "code",
   "execution_count": 23,
   "id": "cf50ab15",
   "metadata": {},
   "outputs": [
    {
     "name": "stdout",
     "output_type": "stream",
     "text": [
      "\u001b[32mTest Passed\u001b[0m\n",
      "\u001b[32mTest Passed\u001b[0m\n"
     ]
    }
   ],
   "source": [
    "# DON'T EDIT THIS CELL\n",
    "\n",
    "if (len(X_train)==11880 and len(X_test)==1320):\n",
    "  print(f\"\\033[32mTest Passed\\033[0m\")\n",
    "else:\n",
    "  print(f\"\\033[31mTest Failed\\033[0m\")\n",
    "\n",
    "if (len(y_train)==11880 and len(y_test)==1320):\n",
    "  print(f\"\\033[32mTest Passed\\033[0m\")\n",
    "else:\n",
    "  print(f\"\\033[31mTest Failed\\033[0m\")"
   ]
  },
  {
   "cell_type": "code",
   "execution_count": 24,
   "id": "b6d1bf01",
   "metadata": {},
   "outputs": [
    {
     "data": {
      "text/html": [
       "<div>\n",
       "<style scoped>\n",
       "    .dataframe tbody tr th:only-of-type {\n",
       "        vertical-align: middle;\n",
       "    }\n",
       "\n",
       "    .dataframe tbody tr th {\n",
       "        vertical-align: top;\n",
       "    }\n",
       "\n",
       "    .dataframe thead th {\n",
       "        text-align: right;\n",
       "    }\n",
       "</style>\n",
       "<table border=\"1\" class=\"dataframe\">\n",
       "  <thead>\n",
       "    <tr style=\"text-align: right;\">\n",
       "      <th></th>\n",
       "      <th>Cloud Cover</th>\n",
       "      <th>Season</th>\n",
       "      <th>Location</th>\n",
       "      <th>Temperature</th>\n",
       "      <th>Humidity</th>\n",
       "      <th>Wind Speed</th>\n",
       "      <th>Precipitation (%)</th>\n",
       "      <th>Atmospheric Pressure</th>\n",
       "      <th>UV Index</th>\n",
       "      <th>Visibility (km)</th>\n",
       "    </tr>\n",
       "  </thead>\n",
       "  <tbody>\n",
       "    <tr>\n",
       "      <th>7017</th>\n",
       "      <td>2.0</td>\n",
       "      <td>3.0</td>\n",
       "      <td>2.0</td>\n",
       "      <td>-1.100192</td>\n",
       "      <td>0.658092</td>\n",
       "      <td>1.109918</td>\n",
       "      <td>1.200664</td>\n",
       "      <td>-0.509915</td>\n",
       "      <td>-1.038715</td>\n",
       "      <td>-0.137308</td>\n",
       "    </tr>\n",
       "    <tr>\n",
       "      <th>12278</th>\n",
       "      <td>0.0</td>\n",
       "      <td>3.0</td>\n",
       "      <td>0.0</td>\n",
       "      <td>-0.294931</td>\n",
       "      <td>0.559050</td>\n",
       "      <td>-0.192836</td>\n",
       "      <td>0.950236</td>\n",
       "      <td>0.547933</td>\n",
       "      <td>0.257813</td>\n",
       "      <td>1.494076</td>\n",
       "    </tr>\n",
       "    <tr>\n",
       "      <th>2859</th>\n",
       "      <td>2.0</td>\n",
       "      <td>2.0</td>\n",
       "      <td>1.0</td>\n",
       "      <td>0.050181</td>\n",
       "      <td>0.261924</td>\n",
       "      <td>-0.265211</td>\n",
       "      <td>1.200664</td>\n",
       "      <td>0.154634</td>\n",
       "      <td>-0.520104</td>\n",
       "      <td>-0.582231</td>\n",
       "    </tr>\n",
       "    <tr>\n",
       "      <th>5495</th>\n",
       "      <td>3.0</td>\n",
       "      <td>2.0</td>\n",
       "      <td>1.0</td>\n",
       "      <td>0.280255</td>\n",
       "      <td>-0.233285</td>\n",
       "      <td>0.386166</td>\n",
       "      <td>1.044147</td>\n",
       "      <td>-0.095916</td>\n",
       "      <td>-0.520104</td>\n",
       "      <td>-0.730539</td>\n",
       "    </tr>\n",
       "    <tr>\n",
       "      <th>8469</th>\n",
       "      <td>3.0</td>\n",
       "      <td>0.0</td>\n",
       "      <td>2.0</td>\n",
       "      <td>0.625367</td>\n",
       "      <td>1.499948</td>\n",
       "      <td>1.327043</td>\n",
       "      <td>0.918933</td>\n",
       "      <td>-0.112046</td>\n",
       "      <td>1.813646</td>\n",
       "      <td>0.604230</td>\n",
       "    </tr>\n",
       "  </tbody>\n",
       "</table>\n",
       "</div>"
      ],
      "text/plain": [
       "       Cloud Cover  Season  Location  Temperature  Humidity  Wind Speed  \\\n",
       "7017           2.0     3.0       2.0    -1.100192  0.658092    1.109918   \n",
       "12278          0.0     3.0       0.0    -0.294931  0.559050   -0.192836   \n",
       "2859           2.0     2.0       1.0     0.050181  0.261924   -0.265211   \n",
       "5495           3.0     2.0       1.0     0.280255 -0.233285    0.386166   \n",
       "8469           3.0     0.0       2.0     0.625367  1.499948    1.327043   \n",
       "\n",
       "       Precipitation (%)  Atmospheric Pressure  UV Index  Visibility (km)  \n",
       "7017            1.200664             -0.509915 -1.038715        -0.137308  \n",
       "12278           0.950236              0.547933  0.257813         1.494076  \n",
       "2859            1.200664              0.154634 -0.520104        -0.582231  \n",
       "5495            1.044147             -0.095916 -0.520104        -0.730539  \n",
       "8469            0.918933             -0.112046  1.813646         0.604230  "
      ]
     },
     "execution_count": 24,
     "metadata": {},
     "output_type": "execute_result"
    }
   ],
   "source": [
    "X_train.head()"
   ]
  },
  {
   "cell_type": "markdown",
   "id": "0049c190",
   "metadata": {},
   "source": [
    "## Training and Testing"
   ]
  },
  {
   "cell_type": "code",
   "execution_count": 25,
   "id": "f35aaa71",
   "metadata": {},
   "outputs": [
    {
     "name": "stdout",
     "output_type": "stream",
     "text": [
      "Accuracy: 91.5909090909091\n"
     ]
    }
   ],
   "source": [
    "# START CODE HERE\n",
    "\n",
    "from sklearn.ensemble import RandomForestClassifier\n",
    "\n",
    "model = RandomForestClassifier(random_state=42)\n",
    "model.fit(X_train, y_train)\n",
    "score = model.score(X_test, y_test)\n",
    "\n",
    "# END CODE HERE\n",
    "\n",
    "print(\"Accuracy:\", score*100)"
   ]
  },
  {
   "cell_type": "markdown",
   "id": "6408d41e",
   "metadata": {},
   "source": [
    "#### TEST"
   ]
  },
  {
   "cell_type": "code",
   "execution_count": 26,
   "id": "02ea297d",
   "metadata": {},
   "outputs": [
    {
     "name": "stdout",
     "output_type": "stream",
     "text": [
      "\u001b[32mTest Passed\u001b[0m\n"
     ]
    }
   ],
   "source": [
    "# DON'T EDIT THIS CELL\n",
    "\n",
    "if (score>0.90):\n",
    "  print(f\"\\033[32mTest Passed\\033[0m\")\n",
    "else:\n",
    "  print(f\"\\033[31mTest Failed\\033[0m\")"
   ]
  },
  {
   "cell_type": "markdown",
   "id": "61c2f081",
   "metadata": {},
   "source": [
    "## Predicting Output (Here, Weather Type) "
   ]
  },
  {
   "cell_type": "code",
   "execution_count": 27,
   "id": "5a0ee12d",
   "metadata": {},
   "outputs": [
    {
     "data": {
      "text/html": [
       "<div>\n",
       "<style scoped>\n",
       "    .dataframe tbody tr th:only-of-type {\n",
       "        vertical-align: middle;\n",
       "    }\n",
       "\n",
       "    .dataframe tbody tr th {\n",
       "        vertical-align: top;\n",
       "    }\n",
       "\n",
       "    .dataframe thead th {\n",
       "        text-align: right;\n",
       "    }\n",
       "</style>\n",
       "<table border=\"1\" class=\"dataframe\">\n",
       "  <thead>\n",
       "    <tr style=\"text-align: right;\">\n",
       "      <th></th>\n",
       "      <th>Cloud Cover</th>\n",
       "      <th>Season</th>\n",
       "      <th>Location</th>\n",
       "      <th>Temperature</th>\n",
       "      <th>Humidity</th>\n",
       "      <th>Wind Speed</th>\n",
       "      <th>Precipitation (%)</th>\n",
       "      <th>Atmospheric Pressure</th>\n",
       "      <th>UV Index</th>\n",
       "      <th>Visibility (km)</th>\n",
       "    </tr>\n",
       "  </thead>\n",
       "  <tbody>\n",
       "    <tr>\n",
       "      <th>11923</th>\n",
       "      <td>2.0</td>\n",
       "      <td>3.0</td>\n",
       "      <td>1.0</td>\n",
       "      <td>-0.927636</td>\n",
       "      <td>-0.431369</td>\n",
       "      <td>-0.627087</td>\n",
       "      <td>0.950236</td>\n",
       "      <td>-0.199953</td>\n",
       "      <td>-1.038715</td>\n",
       "      <td>-1.323769</td>\n",
       "    </tr>\n",
       "    <tr>\n",
       "      <th>2331</th>\n",
       "      <td>3.0</td>\n",
       "      <td>3.0</td>\n",
       "      <td>1.0</td>\n",
       "      <td>1.027998</td>\n",
       "      <td>-0.728494</td>\n",
       "      <td>-0.844213</td>\n",
       "      <td>-1.178401</td>\n",
       "      <td>0.364053</td>\n",
       "      <td>1.813646</td>\n",
       "      <td>0.752538</td>\n",
       "    </tr>\n",
       "    <tr>\n",
       "      <th>217</th>\n",
       "      <td>2.0</td>\n",
       "      <td>3.0</td>\n",
       "      <td>2.0</td>\n",
       "      <td>0.567848</td>\n",
       "      <td>1.103780</td>\n",
       "      <td>-0.409962</td>\n",
       "      <td>0.292863</td>\n",
       "      <td>0.379107</td>\n",
       "      <td>-0.520104</td>\n",
       "      <td>-0.730539</td>\n",
       "    </tr>\n",
       "    <tr>\n",
       "      <th>1760</th>\n",
       "      <td>3.0</td>\n",
       "      <td>0.0</td>\n",
       "      <td>1.0</td>\n",
       "      <td>-0.409968</td>\n",
       "      <td>0.014320</td>\n",
       "      <td>-0.265211</td>\n",
       "      <td>-0.614938</td>\n",
       "      <td>0.138773</td>\n",
       "      <td>-0.001493</td>\n",
       "      <td>0.455922</td>\n",
       "    </tr>\n",
       "    <tr>\n",
       "      <th>3963</th>\n",
       "      <td>0.0</td>\n",
       "      <td>3.0</td>\n",
       "      <td>1.0</td>\n",
       "      <td>1.258072</td>\n",
       "      <td>-0.134243</td>\n",
       "      <td>-0.337587</td>\n",
       "      <td>-1.272311</td>\n",
       "      <td>0.281791</td>\n",
       "      <td>1.295035</td>\n",
       "      <td>1.197460</td>\n",
       "    </tr>\n",
       "  </tbody>\n",
       "</table>\n",
       "</div>"
      ],
      "text/plain": [
       "       Cloud Cover  Season  Location  Temperature  Humidity  Wind Speed  \\\n",
       "11923          2.0     3.0       1.0    -0.927636 -0.431369   -0.627087   \n",
       "2331           3.0     3.0       1.0     1.027998 -0.728494   -0.844213   \n",
       "217            2.0     3.0       2.0     0.567848  1.103780   -0.409962   \n",
       "1760           3.0     0.0       1.0    -0.409968  0.014320   -0.265211   \n",
       "3963           0.0     3.0       1.0     1.258072 -0.134243   -0.337587   \n",
       "\n",
       "       Precipitation (%)  Atmospheric Pressure  UV Index  Visibility (km)  \n",
       "11923           0.950236             -0.199953 -1.038715        -1.323769  \n",
       "2331           -1.178401              0.364053  1.813646         0.752538  \n",
       "217             0.292863              0.379107 -0.520104        -0.730539  \n",
       "1760           -0.614938              0.138773 -0.001493         0.455922  \n",
       "3963           -1.272311              0.281791  1.295035         1.197460  "
      ]
     },
     "execution_count": 27,
     "metadata": {},
     "output_type": "execute_result"
    }
   ],
   "source": [
    "input = X_test.head()\n",
    "input"
   ]
  },
  {
   "cell_type": "code",
   "execution_count": 30,
   "id": "5a119291",
   "metadata": {},
   "outputs": [
    {
     "ename": "AttributeError",
     "evalue": "'numpy.ndarray' object has no attribute 'to_list'",
     "output_type": "error",
     "traceback": [
      "\u001b[0;31m---------------------------------------------------------------------------\u001b[0m",
      "\u001b[0;31mAttributeError\u001b[0m                            Traceback (most recent call last)",
      "Cell \u001b[0;32mIn[30], line 2\u001b[0m\n\u001b[1;32m      1\u001b[0m y \u001b[38;5;241m=\u001b[39m model\u001b[38;5;241m.\u001b[39mpredict(\u001b[38;5;28minput\u001b[39m)\n\u001b[0;32m----> 2\u001b[0m y\u001b[38;5;241m.\u001b[39mto_list()\n",
      "\u001b[0;31mAttributeError\u001b[0m: 'numpy.ndarray' object has no attribute 'to_list'"
     ]
    }
   ],
   "source": [
    "y = model.predict(input)\n",
    "y.to_list()"
   ]
  },
  {
   "cell_type": "code",
   "execution_count": null,
   "id": "540d0b92",
   "metadata": {},
   "outputs": [],
   "source": []
  }
 ],
 "metadata": {
  "kernelspec": {
   "display_name": "Python 3 (ipykernel)",
   "language": "python",
   "name": "python3"
  },
  "language_info": {
   "codemirror_mode": {
    "name": "ipython",
    "version": 3
   },
   "file_extension": ".py",
   "mimetype": "text/x-python",
   "name": "python",
   "nbconvert_exporter": "python",
   "pygments_lexer": "ipython3",
   "version": "3.11.5"
  }
 },
 "nbformat": 4,
 "nbformat_minor": 5
}
