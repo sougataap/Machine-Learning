{
 "cells": [
  {
   "cell_type": "code",
   "execution_count": 1,
   "metadata": {
    "colab": {
     "base_uri": "https://localhost:8080/"
    },
    "id": "fKoBBaQURUDy",
    "outputId": "bf11cf7f-4f34-467e-a5ea-5f3ef8d1832b"
   },
   "outputs": [
    {
     "name": "stdout",
     "output_type": "stream",
     "text": [
      "Mounted at /content/drive\n"
     ]
    }
   ],
   "source": [
    "from google.colab import drive\n",
    "drive.mount('/content/drive')"
   ]
  },
  {
   "cell_type": "code",
   "execution_count": 3,
   "metadata": {
    "id": "SzqjA6jbG-dW"
   },
   "outputs": [],
   "source": [
    "import tensorflow as tf\n",
    "from tensorflow.keras.layers import Dense,Flatten\n",
    "from tensorflow.keras import Input"
   ]
  },
  {
   "cell_type": "code",
   "execution_count": 5,
   "metadata": {
    "colab": {
     "base_uri": "https://localhost:8080/"
    },
    "id": "dWOiYzrqIrvB",
    "outputId": "c64b4349-43cb-4bc8-9422-940d4aa87510"
   },
   "outputs": [
    {
     "name": "stdout",
     "output_type": "stream",
     "text": [
      "Found 269 files belonging to 2 classes.\n"
     ]
    }
   ],
   "source": [
    "dataset = tf.keras.preprocessing.image_dataset_from_directory(\"/content/drive/MyDrive/Colab_Notebooks/week2/homer_bart\",image_size=(64, 64),label_mode = \"binary\")\n"
   ]
  },
  {
   "cell_type": "code",
   "execution_count": 6,
   "metadata": {
    "id": "RSasTq5wRgPz"
   },
   "outputs": [],
   "source": [
    "train_data = dataset.take(8)\n",
    "test_data = dataset.skip(8)\n",
    "train_data = train_data.cache().shuffle(1000).prefetch(buffer_size=tf.data.AUTOTUNE)\n",
    "test_data = test_data.cache().shuffle(1000).prefetch(buffer_size=tf.data.AUTOTUNE)"
   ]
  },
  {
   "cell_type": "code",
   "execution_count": 7,
   "metadata": {
    "id": "yID91aluk8jG"
   },
   "outputs": [],
   "source": [
    "preprocess = tf.keras.Sequential(\n",
    "    [tf.keras.layers.Rescaling(1./255)] # rescaling factor\n",
    ")\n",
    "model = tf.keras.Sequential()\n",
    "model.add(Input((64,64,3)))\n",
    "model.add(Flatten())\n",
    "model.add(preprocess)\n",
    "model.add(Dense(128, activation='relu'))\n",
    "model.add(Dense(64, activation='relu'))\n",
    "model.add(Dense(32, activation='relu'))\n",
    "model.add(Dense(1, activation='sigmoid'))"
   ]
  },
  {
   "cell_type": "code",
   "execution_count": 8,
   "metadata": {
    "id": "n8IzestGlVwX"
   },
   "outputs": [],
   "source": [
    "model.compile(optimizer='adam',\n",
    "              loss = tf.keras.losses.BinaryCrossentropy(from_logits = False), # use tf.keras.losses._______(from_logits = False)\n",
    "              metrics = ['accuracy'])"
   ]
  },
  {
   "cell_type": "code",
   "execution_count": 9,
   "metadata": {
    "colab": {
     "base_uri": "https://localhost:8080/"
    },
    "id": "MUX7le0zrNKo",
    "outputId": "ae42854e-6551-4bad-d186-e9e9f77e6ff9"
   },
   "outputs": [
    {
     "name": "stdout",
     "output_type": "stream",
     "text": [
      "Epoch 1/25\n",
      "8/8 [==============================] - 78s 276ms/step - loss: 1.2989 - accuracy: 0.4844 - val_loss: 1.0322 - val_accuracy: 0.6154\n",
      "Epoch 2/25\n",
      "8/8 [==============================] - 0s 11ms/step - loss: 0.8402 - accuracy: 0.5234 - val_loss: 0.7166 - val_accuracy: 0.6154\n",
      "Epoch 3/25\n",
      "8/8 [==============================] - 0s 12ms/step - loss: 0.6263 - accuracy: 0.6094 - val_loss: 0.5725 - val_accuracy: 0.6923\n",
      "Epoch 4/25\n",
      "8/8 [==============================] - 0s 13ms/step - loss: 0.5334 - accuracy: 0.7344 - val_loss: 0.4782 - val_accuracy: 0.6923\n",
      "Epoch 5/25\n",
      "8/8 [==============================] - 0s 15ms/step - loss: 0.4974 - accuracy: 0.8008 - val_loss: 0.4756 - val_accuracy: 0.7692\n",
      "Epoch 6/25\n",
      "8/8 [==============================] - 0s 12ms/step - loss: 0.4804 - accuracy: 0.7930 - val_loss: 0.4492 - val_accuracy: 0.7692\n",
      "Epoch 7/25\n",
      "8/8 [==============================] - 0s 12ms/step - loss: 0.4377 - accuracy: 0.7969 - val_loss: 0.4412 - val_accuracy: 0.6923\n",
      "Epoch 8/25\n",
      "8/8 [==============================] - 0s 11ms/step - loss: 0.4291 - accuracy: 0.8203 - val_loss: 0.4125 - val_accuracy: 0.6923\n",
      "Epoch 9/25\n",
      "8/8 [==============================] - 0s 10ms/step - loss: 0.4196 - accuracy: 0.8281 - val_loss: 0.4665 - val_accuracy: 0.8462\n",
      "Epoch 10/25\n",
      "8/8 [==============================] - 0s 10ms/step - loss: 0.3902 - accuracy: 0.8438 - val_loss: 0.3877 - val_accuracy: 0.7692\n",
      "Epoch 11/25\n",
      "8/8 [==============================] - 0s 16ms/step - loss: 0.3452 - accuracy: 0.8594 - val_loss: 0.3774 - val_accuracy: 0.7692\n",
      "Epoch 12/25\n",
      "8/8 [==============================] - 0s 13ms/step - loss: 0.3349 - accuracy: 0.8477 - val_loss: 0.4141 - val_accuracy: 0.6923\n",
      "Epoch 13/25\n",
      "8/8 [==============================] - 0s 14ms/step - loss: 0.3501 - accuracy: 0.8711 - val_loss: 0.3610 - val_accuracy: 0.8462\n",
      "Epoch 14/25\n",
      "8/8 [==============================] - 0s 9ms/step - loss: 0.3655 - accuracy: 0.8086 - val_loss: 0.3318 - val_accuracy: 0.9231\n",
      "Epoch 15/25\n",
      "8/8 [==============================] - 0s 10ms/step - loss: 0.2691 - accuracy: 0.8867 - val_loss: 0.3139 - val_accuracy: 0.9231\n",
      "Epoch 16/25\n",
      "8/8 [==============================] - 0s 5ms/step - loss: 0.2472 - accuracy: 0.9102 - val_loss: 0.2933 - val_accuracy: 0.9231\n",
      "Epoch 17/25\n",
      "8/8 [==============================] - 0s 5ms/step - loss: 0.2268 - accuracy: 0.9336 - val_loss: 0.2783 - val_accuracy: 0.9231\n",
      "Epoch 18/25\n",
      "8/8 [==============================] - 0s 5ms/step - loss: 0.2248 - accuracy: 0.9297 - val_loss: 0.3179 - val_accuracy: 0.9231\n",
      "Epoch 19/25\n",
      "8/8 [==============================] - 0s 5ms/step - loss: 0.1979 - accuracy: 0.9492 - val_loss: 0.2499 - val_accuracy: 0.9231\n",
      "Epoch 20/25\n",
      "8/8 [==============================] - 0s 8ms/step - loss: 0.1855 - accuracy: 0.9492 - val_loss: 0.2990 - val_accuracy: 0.9231\n",
      "Epoch 21/25\n",
      "8/8 [==============================] - 0s 5ms/step - loss: 0.1831 - accuracy: 0.9531 - val_loss: 0.2489 - val_accuracy: 0.7692\n",
      "Epoch 22/25\n",
      "8/8 [==============================] - 0s 8ms/step - loss: 0.1735 - accuracy: 0.9492 - val_loss: 0.3835 - val_accuracy: 0.8462\n",
      "Epoch 23/25\n",
      "8/8 [==============================] - 0s 5ms/step - loss: 0.1873 - accuracy: 0.9219 - val_loss: 0.3422 - val_accuracy: 0.7692\n",
      "Epoch 24/25\n",
      "8/8 [==============================] - 0s 6ms/step - loss: 0.2137 - accuracy: 0.9258 - val_loss: 0.3240 - val_accuracy: 0.9231\n",
      "Epoch 25/25\n",
      "8/8 [==============================] - 0s 5ms/step - loss: 0.1474 - accuracy: 0.9531 - val_loss: 0.1915 - val_accuracy: 0.9231\n"
     ]
    },
    {
     "data": {
      "text/plain": [
       "<keras.src.callbacks.History at 0x7c40530a7460>"
      ]
     },
     "execution_count": 9,
     "metadata": {},
     "output_type": "execute_result"
    }
   ],
   "source": [
    "model.fit(train_data,\n",
    "          epochs = 25,\n",
    "          batch_size = 32,\n",
    "          verbose=1,\n",
    "          validation_data = test_data)"
   ]
  }
 ],
 "metadata": {
  "accelerator": "GPU",
  "colab": {
   "gpuType": "T4",
   "provenance": []
  },
  "kernelspec": {
   "display_name": "Python 3 (ipykernel)",
   "language": "python",
   "name": "python3"
  },
  "language_info": {
   "codemirror_mode": {
    "name": "ipython",
    "version": 3
   },
   "file_extension": ".py",
   "mimetype": "text/x-python",
   "name": "python",
   "nbconvert_exporter": "python",
   "pygments_lexer": "ipython3",
   "version": "3.11.5"
  }
 },
 "nbformat": 4,
 "nbformat_minor": 1
}
